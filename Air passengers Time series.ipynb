{
 "cells": [
  {
   "cell_type": "markdown",
   "id": "7ee180d2",
   "metadata": {},
   "source": [
    "# Aim : To do the forecast for next 1 year (next 12 time periods)"
   ]
  },
  {
   "cell_type": "code",
   "execution_count": 1,
   "id": "72668e9f",
   "metadata": {},
   "outputs": [],
   "source": [
    "# Importing necessary libraries\n",
    "\n",
    "import pandas as pd\n",
    "import numpy as np\n",
    "import matplotlib.pyplot as plt\n",
    "import seaborn as sns"
   ]
  },
  {
   "cell_type": "code",
   "execution_count": 2,
   "id": "32fe9e2e",
   "metadata": {},
   "outputs": [],
   "source": [
    "# Importing dataset\n",
    "\n",
    "data = r\"C:\\Users\\Abhinandan\\Desktop\\AirPassengers.csv\"\n",
    "\n",
    "airpas=pd.read_csv(data)"
   ]
  },
  {
   "cell_type": "code",
   "execution_count": 3,
   "id": "8459915d",
   "metadata": {},
   "outputs": [
    {
     "data": {
      "text/html": [
       "<div>\n",
       "<style scoped>\n",
       "    .dataframe tbody tr th:only-of-type {\n",
       "        vertical-align: middle;\n",
       "    }\n",
       "\n",
       "    .dataframe tbody tr th {\n",
       "        vertical-align: top;\n",
       "    }\n",
       "\n",
       "    .dataframe thead th {\n",
       "        text-align: right;\n",
       "    }\n",
       "</style>\n",
       "<table border=\"1\" class=\"dataframe\">\n",
       "  <thead>\n",
       "    <tr style=\"text-align: right;\">\n",
       "      <th></th>\n",
       "      <th>Month</th>\n",
       "      <th>Passengers</th>\n",
       "    </tr>\n",
       "  </thead>\n",
       "  <tbody>\n",
       "    <tr>\n",
       "      <th>0</th>\n",
       "      <td>1949-01</td>\n",
       "      <td>112</td>\n",
       "    </tr>\n",
       "    <tr>\n",
       "      <th>1</th>\n",
       "      <td>1949-02</td>\n",
       "      <td>118</td>\n",
       "    </tr>\n",
       "    <tr>\n",
       "      <th>2</th>\n",
       "      <td>1949-03</td>\n",
       "      <td>132</td>\n",
       "    </tr>\n",
       "    <tr>\n",
       "      <th>3</th>\n",
       "      <td>1949-04</td>\n",
       "      <td>129</td>\n",
       "    </tr>\n",
       "    <tr>\n",
       "      <th>4</th>\n",
       "      <td>1949-05</td>\n",
       "      <td>121</td>\n",
       "    </tr>\n",
       "  </tbody>\n",
       "</table>\n",
       "</div>"
      ],
      "text/plain": [
       "     Month  Passengers\n",
       "0  1949-01         112\n",
       "1  1949-02         118\n",
       "2  1949-03         132\n",
       "3  1949-04         129\n",
       "4  1949-05         121"
      ]
     },
     "execution_count": 3,
     "metadata": {},
     "output_type": "execute_result"
    }
   ],
   "source": [
    "# preview of dataset (top 5)\n",
    "\n",
    "airpas.head()"
   ]
  },
  {
   "cell_type": "code",
   "execution_count": 4,
   "id": "e9d76f44",
   "metadata": {},
   "outputs": [
    {
     "data": {
      "text/html": [
       "<div>\n",
       "<style scoped>\n",
       "    .dataframe tbody tr th:only-of-type {\n",
       "        vertical-align: middle;\n",
       "    }\n",
       "\n",
       "    .dataframe tbody tr th {\n",
       "        vertical-align: top;\n",
       "    }\n",
       "\n",
       "    .dataframe thead th {\n",
       "        text-align: right;\n",
       "    }\n",
       "</style>\n",
       "<table border=\"1\" class=\"dataframe\">\n",
       "  <thead>\n",
       "    <tr style=\"text-align: right;\">\n",
       "      <th></th>\n",
       "      <th>Month</th>\n",
       "      <th>Passengers</th>\n",
       "    </tr>\n",
       "  </thead>\n",
       "  <tbody>\n",
       "    <tr>\n",
       "      <th>139</th>\n",
       "      <td>1960-08</td>\n",
       "      <td>606</td>\n",
       "    </tr>\n",
       "    <tr>\n",
       "      <th>140</th>\n",
       "      <td>1960-09</td>\n",
       "      <td>508</td>\n",
       "    </tr>\n",
       "    <tr>\n",
       "      <th>141</th>\n",
       "      <td>1960-10</td>\n",
       "      <td>461</td>\n",
       "    </tr>\n",
       "    <tr>\n",
       "      <th>142</th>\n",
       "      <td>1960-11</td>\n",
       "      <td>390</td>\n",
       "    </tr>\n",
       "    <tr>\n",
       "      <th>143</th>\n",
       "      <td>1960-12</td>\n",
       "      <td>432</td>\n",
       "    </tr>\n",
       "  </tbody>\n",
       "</table>\n",
       "</div>"
      ],
      "text/plain": [
       "       Month  Passengers\n",
       "139  1960-08         606\n",
       "140  1960-09         508\n",
       "141  1960-10         461\n",
       "142  1960-11         390\n",
       "143  1960-12         432"
      ]
     },
     "execution_count": 4,
     "metadata": {},
     "output_type": "execute_result"
    }
   ],
   "source": [
    "# preview of dataset (last 5)\n",
    "\n",
    "airpas.tail()"
   ]
  },
  {
   "cell_type": "code",
   "execution_count": 5,
   "id": "0ae16b31",
   "metadata": {},
   "outputs": [
    {
     "data": {
      "text/plain": [
       "(144, 2)"
      ]
     },
     "execution_count": 5,
     "metadata": {},
     "output_type": "execute_result"
    }
   ],
   "source": [
    "# dimensions of datset\n",
    "\n",
    "airpas.shape"
   ]
  },
  {
   "cell_type": "code",
   "execution_count": 6,
   "id": "8b133881",
   "metadata": {},
   "outputs": [],
   "source": [
    "# this data is from jan 1949 to till dec 1960 , 12 years monthly data.\n",
    "\n",
    "# if pasengers is the volume of pasengers in 1000's per month\n",
    "\n",
    "\n",
    "# Aim : do the forecast for next 1 year (next 12 time periods)"
   ]
  },
  {
   "cell_type": "code",
   "execution_count": 7,
   "id": "aca8aedf",
   "metadata": {},
   "outputs": [
    {
     "data": {
      "text/html": [
       "<div>\n",
       "<style scoped>\n",
       "    .dataframe tbody tr th:only-of-type {\n",
       "        vertical-align: middle;\n",
       "    }\n",
       "\n",
       "    .dataframe tbody tr th {\n",
       "        vertical-align: top;\n",
       "    }\n",
       "\n",
       "    .dataframe thead th {\n",
       "        text-align: right;\n",
       "    }\n",
       "</style>\n",
       "<table border=\"1\" class=\"dataframe\">\n",
       "  <thead>\n",
       "    <tr style=\"text-align: right;\">\n",
       "      <th></th>\n",
       "      <th>Passengers</th>\n",
       "    </tr>\n",
       "    <tr>\n",
       "      <th>Month</th>\n",
       "      <th></th>\n",
       "    </tr>\n",
       "  </thead>\n",
       "  <tbody>\n",
       "    <tr>\n",
       "      <th>1949-01-01</th>\n",
       "      <td>112</td>\n",
       "    </tr>\n",
       "    <tr>\n",
       "      <th>1949-02-01</th>\n",
       "      <td>118</td>\n",
       "    </tr>\n",
       "    <tr>\n",
       "      <th>1949-03-01</th>\n",
       "      <td>132</td>\n",
       "    </tr>\n",
       "    <tr>\n",
       "      <th>1949-04-01</th>\n",
       "      <td>129</td>\n",
       "    </tr>\n",
       "    <tr>\n",
       "      <th>1949-05-01</th>\n",
       "      <td>121</td>\n",
       "    </tr>\n",
       "  </tbody>\n",
       "</table>\n",
       "</div>"
      ],
      "text/plain": [
       "            Passengers\n",
       "Month                 \n",
       "1949-01-01         112\n",
       "1949-02-01         118\n",
       "1949-03-01         132\n",
       "1949-04-01         129\n",
       "1949-05-01         121"
      ]
     },
     "execution_count": 7,
     "metadata": {},
     "output_type": "execute_result"
    }
   ],
   "source": [
    "airpas.Month = pd.to_datetime(airpas.Month, infer_datetime_format=True)\n",
    "ind_airpas = airpas.set_index(['Month'])  # month has been indexed\n",
    "\n",
    "ind_airpas.head()\n",
    "\n",
    "# first we r converting into datetime format\n",
    "# then set the column 'Month' as index. for drawing graph. "
   ]
  },
  {
   "cell_type": "code",
   "execution_count": 8,
   "id": "4e95915e",
   "metadata": {},
   "outputs": [
    {
     "data": {
      "text/plain": [
       "[<matplotlib.lines.Line2D at 0x2f2718c1610>]"
      ]
     },
     "execution_count": 8,
     "metadata": {},
     "output_type": "execute_result"
    },
    {
     "data": {
      "image/png": "[encoded data removed]",
      "text/plain": [
       "<Figure size 432x288 with 1 Axes>"
      ]
     },
     "metadata": {
      "needs_background": "light"
     },
     "output_type": "display_data"
    }
   ],
   "source": [
    "plt.plot(ind_airpas)\n",
    "\n",
    "# plotting graph on data"
   ]
  },
  {
   "cell_type": "code",
   "execution_count": 9,
   "id": "32603cd6",
   "metadata": {},
   "outputs": [],
   "source": [
    "#Note == arima can't handle seasonality"
   ]
  },
  {
   "cell_type": "code",
   "execution_count": 10,
   "id": "16b097ba",
   "metadata": {},
   "outputs": [
    {
     "data": {
      "text/html": [
       "<div>\n",
       "<style scoped>\n",
       "    .dataframe tbody tr th:only-of-type {\n",
       "        vertical-align: middle;\n",
       "    }\n",
       "\n",
       "    .dataframe tbody tr th {\n",
       "        vertical-align: top;\n",
       "    }\n",
       "\n",
       "    .dataframe thead th {\n",
       "        text-align: right;\n",
       "    }\n",
       "</style>\n",
       "<table border=\"1\" class=\"dataframe\">\n",
       "  <thead>\n",
       "    <tr style=\"text-align: right;\">\n",
       "      <th></th>\n",
       "      <th>Passengers</th>\n",
       "    </tr>\n",
       "    <tr>\n",
       "      <th>Month</th>\n",
       "      <th></th>\n",
       "    </tr>\n",
       "  </thead>\n",
       "  <tbody>\n",
       "    <tr>\n",
       "      <th>1949-01-01</th>\n",
       "      <td>NaN</td>\n",
       "    </tr>\n",
       "    <tr>\n",
       "      <th>1949-02-01</th>\n",
       "      <td>6.0</td>\n",
       "    </tr>\n",
       "    <tr>\n",
       "      <th>1949-03-01</th>\n",
       "      <td>14.0</td>\n",
       "    </tr>\n",
       "    <tr>\n",
       "      <th>1949-04-01</th>\n",
       "      <td>-3.0</td>\n",
       "    </tr>\n",
       "    <tr>\n",
       "      <th>1949-05-01</th>\n",
       "      <td>-8.0</td>\n",
       "    </tr>\n",
       "    <tr>\n",
       "      <th>...</th>\n",
       "      <td>...</td>\n",
       "    </tr>\n",
       "    <tr>\n",
       "      <th>1960-08-01</th>\n",
       "      <td>-16.0</td>\n",
       "    </tr>\n",
       "    <tr>\n",
       "      <th>1960-09-01</th>\n",
       "      <td>-98.0</td>\n",
       "    </tr>\n",
       "    <tr>\n",
       "      <th>1960-10-01</th>\n",
       "      <td>-47.0</td>\n",
       "    </tr>\n",
       "    <tr>\n",
       "      <th>1960-11-01</th>\n",
       "      <td>-71.0</td>\n",
       "    </tr>\n",
       "    <tr>\n",
       "      <th>1960-12-01</th>\n",
       "      <td>42.0</td>\n",
       "    </tr>\n",
       "  </tbody>\n",
       "</table>\n",
       "<p>144 rows × 1 columns</p>\n",
       "</div>"
      ],
      "text/plain": [
       "            Passengers\n",
       "Month                 \n",
       "1949-01-01         NaN\n",
       "1949-02-01         6.0\n",
       "1949-03-01        14.0\n",
       "1949-04-01        -3.0\n",
       "1949-05-01        -8.0\n",
       "...                ...\n",
       "1960-08-01       -16.0\n",
       "1960-09-01       -98.0\n",
       "1960-10-01       -47.0\n",
       "1960-11-01       -71.0\n",
       "1960-12-01        42.0\n",
       "\n",
       "[144 rows x 1 columns]"
      ]
     },
     "execution_count": 10,
     "metadata": {},
     "output_type": "execute_result"
    }
   ],
   "source": [
    "ind_airpas.diff()\n",
    "#  differncing (statinarity)"
   ]
  },
  {
   "cell_type": "code",
   "execution_count": 11,
   "id": "042b85ef",
   "metadata": {},
   "outputs": [
    {
     "data": {
      "text/plain": [
       "[<matplotlib.lines.Line2D at 0x2f26db0e790>]"
      ]
     },
     "execution_count": 11,
     "metadata": {},
     "output_type": "execute_result"
    },
    {
     "data": {
      "image/png": "[encoded data removed]",
      "text/plain": [
       "<Figure size 432x288 with 1 Axes>"
      ]
     },
     "metadata": {
      "needs_background": "light"
     },
     "output_type": "display_data"
    }
   ],
   "source": [
    "plt.plot(ind_airpas.diff())\n",
    "\n",
    "# After level 1 differncing"
   ]
  },
  {
   "cell_type": "code",
   "execution_count": 12,
   "id": "8c1f8eb6",
   "metadata": {},
   "outputs": [
    {
     "data": {
      "text/plain": [
       "[<matplotlib.lines.Line2D at 0x2f2730b05b0>]"
      ]
     },
     "execution_count": 12,
     "metadata": {},
     "output_type": "execute_result"
    },
    {
     "data": {
      "image/png": "[encoded data removed]",
      "text/plain": [
       "<Figure size 432x288 with 1 Axes>"
      ]
     },
     "metadata": {
      "needs_background": "light"
     },
     "output_type": "display_data"
    }
   ],
   "source": [
    "plt.plot(ind_airpas.diff().diff().diff().diff().diff().diff().diff().diff().diff().diff().diff().diff().diff().diff().diff().diff().diff().diff().diff().diff().diff().diff().diff().diff().diff().diff().diff().diff().diff().diff().diff().diff().diff().diff())"
   ]
  },
  {
   "cell_type": "code",
   "execution_count": 13,
   "id": "4cfc8b21",
   "metadata": {},
   "outputs": [],
   "source": [
    "# data is not converting into stationarity so we r taking log"
   ]
  },
  {
   "cell_type": "code",
   "execution_count": 14,
   "id": "94fd029e",
   "metadata": {},
   "outputs": [],
   "source": [
    "# I will take a log (log transformation)"
   ]
  },
  {
   "cell_type": "code",
   "execution_count": 15,
   "id": "69a2b554",
   "metadata": {},
   "outputs": [],
   "source": [
    "ind_airpas_log = np.log(ind_airpas)"
   ]
  },
  {
   "cell_type": "code",
   "execution_count": 16,
   "id": "28aabff5",
   "metadata": {},
   "outputs": [
    {
     "data": {
      "text/html": [
       "<div>\n",
       "<style scoped>\n",
       "    .dataframe tbody tr th:only-of-type {\n",
       "        vertical-align: middle;\n",
       "    }\n",
       "\n",
       "    .dataframe tbody tr th {\n",
       "        vertical-align: top;\n",
       "    }\n",
       "\n",
       "    .dataframe thead th {\n",
       "        text-align: right;\n",
       "    }\n",
       "</style>\n",
       "<table border=\"1\" class=\"dataframe\">\n",
       "  <thead>\n",
       "    <tr style=\"text-align: right;\">\n",
       "      <th></th>\n",
       "      <th>Passengers</th>\n",
       "    </tr>\n",
       "    <tr>\n",
       "      <th>Month</th>\n",
       "      <th></th>\n",
       "    </tr>\n",
       "  </thead>\n",
       "  <tbody>\n",
       "    <tr>\n",
       "      <th>1949-01-01</th>\n",
       "      <td>4.718499</td>\n",
       "    </tr>\n",
       "    <tr>\n",
       "      <th>1949-02-01</th>\n",
       "      <td>4.770685</td>\n",
       "    </tr>\n",
       "    <tr>\n",
       "      <th>1949-03-01</th>\n",
       "      <td>4.882802</td>\n",
       "    </tr>\n",
       "    <tr>\n",
       "      <th>1949-04-01</th>\n",
       "      <td>4.859812</td>\n",
       "    </tr>\n",
       "    <tr>\n",
       "      <th>1949-05-01</th>\n",
       "      <td>4.795791</td>\n",
       "    </tr>\n",
       "    <tr>\n",
       "      <th>...</th>\n",
       "      <td>...</td>\n",
       "    </tr>\n",
       "    <tr>\n",
       "      <th>1960-08-01</th>\n",
       "      <td>6.406880</td>\n",
       "    </tr>\n",
       "    <tr>\n",
       "      <th>1960-09-01</th>\n",
       "      <td>6.230481</td>\n",
       "    </tr>\n",
       "    <tr>\n",
       "      <th>1960-10-01</th>\n",
       "      <td>6.133398</td>\n",
       "    </tr>\n",
       "    <tr>\n",
       "      <th>1960-11-01</th>\n",
       "      <td>5.966147</td>\n",
       "    </tr>\n",
       "    <tr>\n",
       "      <th>1960-12-01</th>\n",
       "      <td>6.068426</td>\n",
       "    </tr>\n",
       "  </tbody>\n",
       "</table>\n",
       "<p>144 rows × 1 columns</p>\n",
       "</div>"
      ],
      "text/plain": [
       "            Passengers\n",
       "Month                 \n",
       "1949-01-01    4.718499\n",
       "1949-02-01    4.770685\n",
       "1949-03-01    4.882802\n",
       "1949-04-01    4.859812\n",
       "1949-05-01    4.795791\n",
       "...                ...\n",
       "1960-08-01    6.406880\n",
       "1960-09-01    6.230481\n",
       "1960-10-01    6.133398\n",
       "1960-11-01    5.966147\n",
       "1960-12-01    6.068426\n",
       "\n",
       "[144 rows x 1 columns]"
      ]
     },
     "execution_count": 16,
     "metadata": {},
     "output_type": "execute_result"
    }
   ],
   "source": [
    "ind_airpas_log"
   ]
  },
  {
   "cell_type": "markdown",
   "id": "4f15f51b",
   "metadata": {},
   "source": [
    "# Note"
   ]
  },
  {
   "cell_type": "code",
   "execution_count": 17,
   "id": "20fd6dd9",
   "metadata": {},
   "outputs": [],
   "source": [
    "# avoid taking log when your any value is zero or negative"
   ]
  },
  {
   "cell_type": "code",
   "execution_count": 18,
   "id": "3ff62c34",
   "metadata": {},
   "outputs": [],
   "source": [
    "# if wwe r achiveing stationarity then don't take log"
   ]
  },
  {
   "cell_type": "code",
   "execution_count": 19,
   "id": "e8530c9a",
   "metadata": {},
   "outputs": [
    {
     "data": {
      "text/plain": [
       "[<matplotlib.lines.Line2D at 0x2f27310f190>]"
      ]
     },
     "execution_count": 19,
     "metadata": {},
     "output_type": "execute_result"
    },
    {
     "data": {
      "image/png": "[encoded data removed]",
      "text/plain": [
       "<Figure size 432x288 with 1 Axes>"
      ]
     },
     "metadata": {
      "needs_background": "light"
     },
     "output_type": "display_data"
    }
   ],
   "source": [
    "plt.plot(ind_airpas_log)"
   ]
  },
  {
   "cell_type": "code",
   "execution_count": 20,
   "id": "ba19369c",
   "metadata": {},
   "outputs": [
    {
     "data": {
      "text/plain": [
       "[<matplotlib.lines.Line2D at 0x2f2731767f0>]"
      ]
     },
     "execution_count": 20,
     "metadata": {},
     "output_type": "execute_result"
    },
    {
     "data": {
      "image/png": "[encoded data removed]",
      "text/plain": [
       "<Figure size 432x288 with 1 Axes>"
      ]
     },
     "metadata": {
      "needs_background": "light"
     },
     "output_type": "display_data"
    }
   ],
   "source": [
    "plt.plot(ind_airpas_log.diff())"
   ]
  },
  {
   "cell_type": "code",
   "execution_count": 21,
   "id": "1b46f06c",
   "metadata": {},
   "outputs": [],
   "source": [
    "# Now this data is stationary"
   ]
  },
  {
   "cell_type": "code",
   "execution_count": 22,
   "id": "a13faa51",
   "metadata": {},
   "outputs": [],
   "source": [
    "# my original series is changed and its now log--- \n",
    "# so model would be build o Log data so forecast also in terms of log so we will taking antLog"
   ]
  },
  {
   "cell_type": "code",
   "execution_count": 23,
   "id": "adc50a44",
   "metadata": {},
   "outputs": [],
   "source": [
    "#value of d is 1 (differncing level 1)"
   ]
  },
  {
   "cell_type": "code",
   "execution_count": 24,
   "id": "0918e08b",
   "metadata": {},
   "outputs": [],
   "source": [
    "# from statsmodels.tsa.stattools import acf , pacf    # ignore\n",
    "from statsmodels.tsa.arima_model import ARIMA"
   ]
  },
  {
   "cell_type": "code",
   "execution_count": 25,
   "id": "56b9d182",
   "metadata": {},
   "outputs": [],
   "source": [
    "from statsmodels.graphics.tsaplots import plot_acf , plot_pacf"
   ]
  },
  {
   "cell_type": "markdown",
   "id": "ee7822e9",
   "metadata": {},
   "source": [
    "# ACF Plot"
   ]
  },
  {
   "cell_type": "code",
   "execution_count": 26,
   "id": "3a717451",
   "metadata": {},
   "outputs": [
    {
     "data": {
      "image/png": "[encoded data removed]",
      "text/plain": [
       "<Figure size 432x288 with 1 Axes>"
      ]
     },
     "metadata": {
      "needs_background": "light"
     },
     "output_type": "display_data"
    }
   ],
   "source": [
    "plot_acf(ind_airpas_log.Passengers, lags=40);"
   ]
  },
  {
   "cell_type": "markdown",
   "id": "5204d87a",
   "metadata": {},
   "source": [
    "As all lags are either close to 1 or at least greater than the confidence interval, they are statistically significant."
   ]
  },
  {
   "cell_type": "markdown",
   "id": "90f8af15",
   "metadata": {},
   "source": [
    "# PACF Plot"
   ]
  },
  {
   "cell_type": "code",
   "execution_count": 27,
   "id": "8907e0c5",
   "metadata": {},
   "outputs": [
    {
     "data": {
      "image/png": "[encoded data removed]",
      "text/plain": [
       "<Figure size 432x288 with 1 Axes>"
      ]
     },
     "metadata": {
      "needs_background": "light"
     },
     "output_type": "display_data"
    }
   ],
   "source": [
    "plot_pacf(ind_airpas_log.Passengers, lags=40);"
   ]
  },
  {
   "cell_type": "markdown",
   "id": "10776eca",
   "metadata": {},
   "source": [
    "Though it is statistically signficant, partial autocorrelation after first 2 lags is very low."
   ]
  },
  {
   "cell_type": "markdown",
   "id": "7cd8064c",
   "metadata": {},
   "source": [
    "#Now values are\n",
    "\n",
    "# P = 2\n",
    "# d = 1\n",
    "# q = 0"
   ]
  },
  {
   "cell_type": "code",
   "execution_count": 28,
   "id": "b156ef73",
   "metadata": {},
   "outputs": [],
   "source": [
    "# Arima model "
   ]
  },
  {
   "cell_type": "code",
   "execution_count": 29,
   "id": "31ccc801",
   "metadata": {},
   "outputs": [
    {
     "name": "stderr",
     "output_type": "stream",
     "text": [
      "C:\\Users\\Abhinandan\\anaconda3\\lib\\site-packages\\statsmodels\\tsa\\arima_model.py:472: FutureWarning: \n",
      "statsmodels.tsa.arima_model.ARMA and statsmodels.tsa.arima_model.ARIMA have\n",
      "been deprecated in favor of statsmodels.tsa.arima.model.ARIMA (note the .\n",
      "between arima and model) and\n",
      "statsmodels.tsa.SARIMAX. These will be removed after the 0.12 release.\n",
      "\n",
      "statsmodels.tsa.arima.model.ARIMA makes use of the statespace framework and\n",
      "is both well tested and maintained.\n",
      "\n",
      "To silence this warning and continue using ARMA and ARIMA until they are\n",
      "removed, use:\n",
      "\n",
      "import warnings\n",
      "warnings.filterwarnings('ignore', 'statsmodels.tsa.arima_model.ARMA',\n",
      "                        FutureWarning)\n",
      "warnings.filterwarnings('ignore', 'statsmodels.tsa.arima_model.ARIMA',\n",
      "                        FutureWarning)\n",
      "\n",
      "  warnings.warn(ARIMA_DEPRECATION_WARN, FutureWarning)\n",
      "C:\\Users\\Abhinandan\\anaconda3\\lib\\site-packages\\statsmodels\\tsa\\base\\tsa_model.py:524: ValueWarning: No frequency information was provided, so inferred frequency MS will be used.\n",
      "  warnings.warn('No frequency information was'\n",
      "C:\\Users\\Abhinandan\\anaconda3\\lib\\site-packages\\statsmodels\\tsa\\base\\tsa_model.py:524: ValueWarning: No frequency information was provided, so inferred frequency MS will be used.\n",
      "  warnings.warn('No frequency information was'\n"
     ]
    }
   ],
   "source": [
    "from statsmodels.tsa.arima_model import ARIMA\n",
    "model = ARIMA(ind_airpas_log , order =(2,1,0))"
   ]
  },
  {
   "cell_type": "code",
   "execution_count": 30,
   "id": "3315e27d",
   "metadata": {},
   "outputs": [],
   "source": [
    "result = model.fit()   # model created"
   ]
  },
  {
   "cell_type": "code",
   "execution_count": 31,
   "id": "6e7b0e07",
   "metadata": {},
   "outputs": [
    {
     "data": {
      "text/plain": [
       "const                 0.009600\n",
       "ar.L1.D.Passengers    0.235864\n",
       "ar.L2.D.Passengers   -0.172474\n",
       "dtype: float64"
      ]
     },
     "execution_count": 31,
     "metadata": {},
     "output_type": "execute_result"
    }
   ],
   "source": [
    "result.params    # values of Constant , psi1  - when ar.L1  , k1 =when ma.L1"
   ]
  },
  {
   "cell_type": "code",
   "execution_count": 32,
   "id": "61237232",
   "metadata": {},
   "outputs": [],
   "source": [
    "forecast_values = result.forecast(steps=12)   # prediction of 1 year"
   ]
  },
  {
   "cell_type": "code",
   "execution_count": 33,
   "id": "fa9847eb",
   "metadata": {},
   "outputs": [
    {
     "data": {
      "text/plain": [
       "(array([6.13038725, 6.13635264, 6.13606416, 6.14395851, 6.15486152,\n",
       "        6.16506284, 6.17457975, 6.18405624, 6.19364126, 6.20325883,\n",
       "        6.21286537, 6.22246369]),\n",
       " array([0.10248369, 0.16292524, 0.1992398 , 0.2264801 , 0.25095755,\n",
       "        0.27376969, 0.29490959, 0.31457336, 0.33305177, 0.35056068,\n",
       "        0.36724061, 0.38319578]),\n",
       " array([[5.92952291, 6.33125159],\n",
       "        [5.81702504, 6.45568025],\n",
       "        [5.74556134, 6.52656699],\n",
       "        [5.70006567, 6.58785134],\n",
       "        [5.66299375, 6.64672928],\n",
       "        [5.62848411, 6.70164157],\n",
       "        [5.59656757, 6.75259193],\n",
       "        [5.5675038 , 6.80060869],\n",
       "        [5.54087179, 6.84641072],\n",
       "        [5.51617253, 6.89034514],\n",
       "        [5.49308699, 6.93264375],\n",
       "        [5.47141377, 6.97351362]]))"
      ]
     },
     "execution_count": 33,
     "metadata": {},
     "output_type": "execute_result"
    }
   ],
   "source": [
    "forecast_values   # 1st array is forcast\n",
    "\n",
    "# 2nd array error\n",
    "\n",
    "# 3rd array is confidence interval"
   ]
  },
  {
   "cell_type": "code",
   "execution_count": 34,
   "id": "d821a508",
   "metadata": {},
   "outputs": [
    {
     "data": {
      "text/plain": [
       "array([6.13038725, 6.13635264, 6.13606416, 6.14395851, 6.15486152,\n",
       "       6.16506284, 6.17457975, 6.18405624, 6.19364126, 6.20325883,\n",
       "       6.21286537, 6.22246369])"
      ]
     },
     "execution_count": 34,
     "metadata": {},
     "output_type": "execute_result"
    }
   ],
   "source": [
    "forecast_values[0]    # forecast"
   ]
  },
  {
   "cell_type": "code",
   "execution_count": 35,
   "id": "f0787d4a",
   "metadata": {},
   "outputs": [
    {
     "data": {
      "text/plain": [
       "array([460., 462., 462., 466., 471., 476., 480., 485., 490., 494., 499.,\n",
       "       504.])"
      ]
     },
     "execution_count": 35,
     "metadata": {},
     "output_type": "execute_result"
    }
   ],
   "source": [
    "# taking antilog \n",
    "\n",
    "np.round(np.exp(forecast_values[0]))   # forcasted values of next 1 year"
   ]
  },
  {
   "cell_type": "markdown",
   "id": "4c2a2479",
   "metadata": {},
   "source": [
    "# Below codes are for plots only to check forcasted values"
   ]
  },
  {
   "cell_type": "code",
   "execution_count": 36,
   "id": "79027336",
   "metadata": {},
   "outputs": [],
   "source": [
    "forecast_values_df = pd.DataFrame(forecast_values[0])\n",
    "forecast_values_df = np.round(np.exp(forecast_values_df))  "
   ]
  },
  {
   "cell_type": "code",
   "execution_count": 37,
   "id": "041dacd8",
   "metadata": {},
   "outputs": [
    {
     "data": {
      "text/html": [
       "<div>\n",
       "<style scoped>\n",
       "    .dataframe tbody tr th:only-of-type {\n",
       "        vertical-align: middle;\n",
       "    }\n",
       "\n",
       "    .dataframe tbody tr th {\n",
       "        vertical-align: top;\n",
       "    }\n",
       "\n",
       "    .dataframe thead th {\n",
       "        text-align: right;\n",
       "    }\n",
       "</style>\n",
       "<table border=\"1\" class=\"dataframe\">\n",
       "  <thead>\n",
       "    <tr style=\"text-align: right;\">\n",
       "      <th></th>\n",
       "      <th>0</th>\n",
       "    </tr>\n",
       "  </thead>\n",
       "  <tbody>\n",
       "    <tr>\n",
       "      <th>0</th>\n",
       "      <td>460.0</td>\n",
       "    </tr>\n",
       "    <tr>\n",
       "      <th>1</th>\n",
       "      <td>462.0</td>\n",
       "    </tr>\n",
       "    <tr>\n",
       "      <th>2</th>\n",
       "      <td>462.0</td>\n",
       "    </tr>\n",
       "    <tr>\n",
       "      <th>3</th>\n",
       "      <td>466.0</td>\n",
       "    </tr>\n",
       "    <tr>\n",
       "      <th>4</th>\n",
       "      <td>471.0</td>\n",
       "    </tr>\n",
       "    <tr>\n",
       "      <th>5</th>\n",
       "      <td>476.0</td>\n",
       "    </tr>\n",
       "    <tr>\n",
       "      <th>6</th>\n",
       "      <td>480.0</td>\n",
       "    </tr>\n",
       "    <tr>\n",
       "      <th>7</th>\n",
       "      <td>485.0</td>\n",
       "    </tr>\n",
       "    <tr>\n",
       "      <th>8</th>\n",
       "      <td>490.0</td>\n",
       "    </tr>\n",
       "    <tr>\n",
       "      <th>9</th>\n",
       "      <td>494.0</td>\n",
       "    </tr>\n",
       "    <tr>\n",
       "      <th>10</th>\n",
       "      <td>499.0</td>\n",
       "    </tr>\n",
       "    <tr>\n",
       "      <th>11</th>\n",
       "      <td>504.0</td>\n",
       "    </tr>\n",
       "  </tbody>\n",
       "</table>\n",
       "</div>"
      ],
      "text/plain": [
       "        0\n",
       "0   460.0\n",
       "1   462.0\n",
       "2   462.0\n",
       "3   466.0\n",
       "4   471.0\n",
       "5   476.0\n",
       "6   480.0\n",
       "7   485.0\n",
       "8   490.0\n",
       "9   494.0\n",
       "10  499.0\n",
       "11  504.0"
      ]
     },
     "execution_count": 37,
     "metadata": {},
     "output_type": "execute_result"
    }
   ],
   "source": [
    "forecast_values_df"
   ]
  },
  {
   "cell_type": "code",
   "execution_count": 38,
   "id": "3c737477",
   "metadata": {},
   "outputs": [],
   "source": [
    "# renaming the column\n",
    "\n",
    "forecast_values_df.rename(columns= {forecast_values_df.columns[0] : 'Predicted'} , inplace = True) "
   ]
  },
  {
   "cell_type": "code",
   "execution_count": 39,
   "id": "1fc9ef4b",
   "metadata": {},
   "outputs": [],
   "source": [
    "#forecast_values_df"
   ]
  },
  {
   "cell_type": "code",
   "execution_count": 40,
   "id": "897d4f21",
   "metadata": {},
   "outputs": [],
   "source": [
    "date_for_pred = ['1961-01-01'  , '1961-02-01' ,\n",
    "                 '1961-03-01', '1961-04-01','1961-05-01', \n",
    "                 '1961-06-01', '1961-07-01','1961-08-01',\n",
    "                 '1961-09-01', '1961-10-01','1961-11-01',\n",
    "                 '1961-12-01']\n",
    "\n",
    "# our data is to the 1960\n",
    "# so for checking prediction we taking this values\n",
    "# put only that much values that you have done forecast"
   ]
  },
  {
   "cell_type": "code",
   "execution_count": 41,
   "id": "59f5f2c5",
   "metadata": {},
   "outputs": [],
   "source": [
    "forecast_values_df  = pd.concat([forecast_values_df , pd.Series(date_for_pred )] , axis = 1)"
   ]
  },
  {
   "cell_type": "code",
   "execution_count": 42,
   "id": "21244d48",
   "metadata": {},
   "outputs": [
    {
     "data": {
      "text/html": [
       "<div>\n",
       "<style scoped>\n",
       "    .dataframe tbody tr th:only-of-type {\n",
       "        vertical-align: middle;\n",
       "    }\n",
       "\n",
       "    .dataframe tbody tr th {\n",
       "        vertical-align: top;\n",
       "    }\n",
       "\n",
       "    .dataframe thead th {\n",
       "        text-align: right;\n",
       "    }\n",
       "</style>\n",
       "<table border=\"1\" class=\"dataframe\">\n",
       "  <thead>\n",
       "    <tr style=\"text-align: right;\">\n",
       "      <th></th>\n",
       "      <th>Predicted</th>\n",
       "      <th>0</th>\n",
       "    </tr>\n",
       "  </thead>\n",
       "  <tbody>\n",
       "    <tr>\n",
       "      <th>0</th>\n",
       "      <td>460.0</td>\n",
       "      <td>1961-01-01</td>\n",
       "    </tr>\n",
       "    <tr>\n",
       "      <th>1</th>\n",
       "      <td>462.0</td>\n",
       "      <td>1961-02-01</td>\n",
       "    </tr>\n",
       "    <tr>\n",
       "      <th>2</th>\n",
       "      <td>462.0</td>\n",
       "      <td>1961-03-01</td>\n",
       "    </tr>\n",
       "    <tr>\n",
       "      <th>3</th>\n",
       "      <td>466.0</td>\n",
       "      <td>1961-04-01</td>\n",
       "    </tr>\n",
       "    <tr>\n",
       "      <th>4</th>\n",
       "      <td>471.0</td>\n",
       "      <td>1961-05-01</td>\n",
       "    </tr>\n",
       "    <tr>\n",
       "      <th>5</th>\n",
       "      <td>476.0</td>\n",
       "      <td>1961-06-01</td>\n",
       "    </tr>\n",
       "    <tr>\n",
       "      <th>6</th>\n",
       "      <td>480.0</td>\n",
       "      <td>1961-07-01</td>\n",
       "    </tr>\n",
       "    <tr>\n",
       "      <th>7</th>\n",
       "      <td>485.0</td>\n",
       "      <td>1961-08-01</td>\n",
       "    </tr>\n",
       "    <tr>\n",
       "      <th>8</th>\n",
       "      <td>490.0</td>\n",
       "      <td>1961-09-01</td>\n",
       "    </tr>\n",
       "    <tr>\n",
       "      <th>9</th>\n",
       "      <td>494.0</td>\n",
       "      <td>1961-10-01</td>\n",
       "    </tr>\n",
       "    <tr>\n",
       "      <th>10</th>\n",
       "      <td>499.0</td>\n",
       "      <td>1961-11-01</td>\n",
       "    </tr>\n",
       "    <tr>\n",
       "      <th>11</th>\n",
       "      <td>504.0</td>\n",
       "      <td>1961-12-01</td>\n",
       "    </tr>\n",
       "  </tbody>\n",
       "</table>\n",
       "</div>"
      ],
      "text/plain": [
       "    Predicted           0\n",
       "0       460.0  1961-01-01\n",
       "1       462.0  1961-02-01\n",
       "2       462.0  1961-03-01\n",
       "3       466.0  1961-04-01\n",
       "4       471.0  1961-05-01\n",
       "5       476.0  1961-06-01\n",
       "6       480.0  1961-07-01\n",
       "7       485.0  1961-08-01\n",
       "8       490.0  1961-09-01\n",
       "9       494.0  1961-10-01\n",
       "10      499.0  1961-11-01\n",
       "11      504.0  1961-12-01"
      ]
     },
     "execution_count": 42,
     "metadata": {},
     "output_type": "execute_result"
    }
   ],
   "source": [
    "forecast_values_df"
   ]
  },
  {
   "cell_type": "code",
   "execution_count": 43,
   "id": "ce8573ae",
   "metadata": {},
   "outputs": [],
   "source": [
    "forecast_values_df.rename(columns= {forecast_values_df.columns[1] : 'Month'} , inplace = True) "
   ]
  },
  {
   "cell_type": "code",
   "execution_count": 44,
   "id": "f99d4eda",
   "metadata": {},
   "outputs": [
    {
     "data": {
      "text/html": [
       "<div>\n",
       "<style scoped>\n",
       "    .dataframe tbody tr th:only-of-type {\n",
       "        vertical-align: middle;\n",
       "    }\n",
       "\n",
       "    .dataframe tbody tr th {\n",
       "        vertical-align: top;\n",
       "    }\n",
       "\n",
       "    .dataframe thead th {\n",
       "        text-align: right;\n",
       "    }\n",
       "</style>\n",
       "<table border=\"1\" class=\"dataframe\">\n",
       "  <thead>\n",
       "    <tr style=\"text-align: right;\">\n",
       "      <th></th>\n",
       "      <th>Predicted</th>\n",
       "      <th>Month</th>\n",
       "    </tr>\n",
       "  </thead>\n",
       "  <tbody>\n",
       "    <tr>\n",
       "      <th>0</th>\n",
       "      <td>460.0</td>\n",
       "      <td>1961-01-01</td>\n",
       "    </tr>\n",
       "    <tr>\n",
       "      <th>1</th>\n",
       "      <td>462.0</td>\n",
       "      <td>1961-02-01</td>\n",
       "    </tr>\n",
       "    <tr>\n",
       "      <th>2</th>\n",
       "      <td>462.0</td>\n",
       "      <td>1961-03-01</td>\n",
       "    </tr>\n",
       "    <tr>\n",
       "      <th>3</th>\n",
       "      <td>466.0</td>\n",
       "      <td>1961-04-01</td>\n",
       "    </tr>\n",
       "    <tr>\n",
       "      <th>4</th>\n",
       "      <td>471.0</td>\n",
       "      <td>1961-05-01</td>\n",
       "    </tr>\n",
       "    <tr>\n",
       "      <th>5</th>\n",
       "      <td>476.0</td>\n",
       "      <td>1961-06-01</td>\n",
       "    </tr>\n",
       "    <tr>\n",
       "      <th>6</th>\n",
       "      <td>480.0</td>\n",
       "      <td>1961-07-01</td>\n",
       "    </tr>\n",
       "    <tr>\n",
       "      <th>7</th>\n",
       "      <td>485.0</td>\n",
       "      <td>1961-08-01</td>\n",
       "    </tr>\n",
       "    <tr>\n",
       "      <th>8</th>\n",
       "      <td>490.0</td>\n",
       "      <td>1961-09-01</td>\n",
       "    </tr>\n",
       "    <tr>\n",
       "      <th>9</th>\n",
       "      <td>494.0</td>\n",
       "      <td>1961-10-01</td>\n",
       "    </tr>\n",
       "    <tr>\n",
       "      <th>10</th>\n",
       "      <td>499.0</td>\n",
       "      <td>1961-11-01</td>\n",
       "    </tr>\n",
       "    <tr>\n",
       "      <th>11</th>\n",
       "      <td>504.0</td>\n",
       "      <td>1961-12-01</td>\n",
       "    </tr>\n",
       "  </tbody>\n",
       "</table>\n",
       "</div>"
      ],
      "text/plain": [
       "    Predicted       Month\n",
       "0       460.0  1961-01-01\n",
       "1       462.0  1961-02-01\n",
       "2       462.0  1961-03-01\n",
       "3       466.0  1961-04-01\n",
       "4       471.0  1961-05-01\n",
       "5       476.0  1961-06-01\n",
       "6       480.0  1961-07-01\n",
       "7       485.0  1961-08-01\n",
       "8       490.0  1961-09-01\n",
       "9       494.0  1961-10-01\n",
       "10      499.0  1961-11-01\n",
       "11      504.0  1961-12-01"
      ]
     },
     "execution_count": 44,
     "metadata": {},
     "output_type": "execute_result"
    }
   ],
   "source": [
    "forecast_values_df"
   ]
  },
  {
   "cell_type": "code",
   "execution_count": 45,
   "id": "cad978af",
   "metadata": {},
   "outputs": [],
   "source": [
    "forecast_values_df.Month  = pd.to_datetime(forecast_values_df.Month, infer_datetime_format= True )\n"
   ]
  },
  {
   "cell_type": "code",
   "execution_count": 46,
   "id": "f67202d6",
   "metadata": {},
   "outputs": [
    {
     "data": {
      "text/html": [
       "<div>\n",
       "<style scoped>\n",
       "    .dataframe tbody tr th:only-of-type {\n",
       "        vertical-align: middle;\n",
       "    }\n",
       "\n",
       "    .dataframe tbody tr th {\n",
       "        vertical-align: top;\n",
       "    }\n",
       "\n",
       "    .dataframe thead th {\n",
       "        text-align: right;\n",
       "    }\n",
       "</style>\n",
       "<table border=\"1\" class=\"dataframe\">\n",
       "  <thead>\n",
       "    <tr style=\"text-align: right;\">\n",
       "      <th></th>\n",
       "      <th>Predicted</th>\n",
       "      <th>Month</th>\n",
       "    </tr>\n",
       "  </thead>\n",
       "  <tbody>\n",
       "    <tr>\n",
       "      <th>0</th>\n",
       "      <td>460.0</td>\n",
       "      <td>1961-01-01</td>\n",
       "    </tr>\n",
       "    <tr>\n",
       "      <th>1</th>\n",
       "      <td>462.0</td>\n",
       "      <td>1961-02-01</td>\n",
       "    </tr>\n",
       "    <tr>\n",
       "      <th>2</th>\n",
       "      <td>462.0</td>\n",
       "      <td>1961-03-01</td>\n",
       "    </tr>\n",
       "    <tr>\n",
       "      <th>3</th>\n",
       "      <td>466.0</td>\n",
       "      <td>1961-04-01</td>\n",
       "    </tr>\n",
       "    <tr>\n",
       "      <th>4</th>\n",
       "      <td>471.0</td>\n",
       "      <td>1961-05-01</td>\n",
       "    </tr>\n",
       "    <tr>\n",
       "      <th>5</th>\n",
       "      <td>476.0</td>\n",
       "      <td>1961-06-01</td>\n",
       "    </tr>\n",
       "    <tr>\n",
       "      <th>6</th>\n",
       "      <td>480.0</td>\n",
       "      <td>1961-07-01</td>\n",
       "    </tr>\n",
       "    <tr>\n",
       "      <th>7</th>\n",
       "      <td>485.0</td>\n",
       "      <td>1961-08-01</td>\n",
       "    </tr>\n",
       "    <tr>\n",
       "      <th>8</th>\n",
       "      <td>490.0</td>\n",
       "      <td>1961-09-01</td>\n",
       "    </tr>\n",
       "    <tr>\n",
       "      <th>9</th>\n",
       "      <td>494.0</td>\n",
       "      <td>1961-10-01</td>\n",
       "    </tr>\n",
       "    <tr>\n",
       "      <th>10</th>\n",
       "      <td>499.0</td>\n",
       "      <td>1961-11-01</td>\n",
       "    </tr>\n",
       "    <tr>\n",
       "      <th>11</th>\n",
       "      <td>504.0</td>\n",
       "      <td>1961-12-01</td>\n",
       "    </tr>\n",
       "  </tbody>\n",
       "</table>\n",
       "</div>"
      ],
      "text/plain": [
       "    Predicted      Month\n",
       "0       460.0 1961-01-01\n",
       "1       462.0 1961-02-01\n",
       "2       462.0 1961-03-01\n",
       "3       466.0 1961-04-01\n",
       "4       471.0 1961-05-01\n",
       "5       476.0 1961-06-01\n",
       "6       480.0 1961-07-01\n",
       "7       485.0 1961-08-01\n",
       "8       490.0 1961-09-01\n",
       "9       494.0 1961-10-01\n",
       "10      499.0 1961-11-01\n",
       "11      504.0 1961-12-01"
      ]
     },
     "execution_count": 46,
     "metadata": {},
     "output_type": "execute_result"
    }
   ],
   "source": [
    "forecast_values_df"
   ]
  },
  {
   "cell_type": "code",
   "execution_count": 47,
   "id": "ab1b0519",
   "metadata": {},
   "outputs": [
    {
     "data": {
      "text/html": [
       "<div>\n",
       "<style scoped>\n",
       "    .dataframe tbody tr th:only-of-type {\n",
       "        vertical-align: middle;\n",
       "    }\n",
       "\n",
       "    .dataframe tbody tr th {\n",
       "        vertical-align: top;\n",
       "    }\n",
       "\n",
       "    .dataframe thead th {\n",
       "        text-align: right;\n",
       "    }\n",
       "</style>\n",
       "<table border=\"1\" class=\"dataframe\">\n",
       "  <thead>\n",
       "    <tr style=\"text-align: right;\">\n",
       "      <th></th>\n",
       "      <th>Predicted</th>\n",
       "    </tr>\n",
       "    <tr>\n",
       "      <th>Month</th>\n",
       "      <th></th>\n",
       "    </tr>\n",
       "  </thead>\n",
       "  <tbody>\n",
       "    <tr>\n",
       "      <th>1961-01-01</th>\n",
       "      <td>460.0</td>\n",
       "    </tr>\n",
       "    <tr>\n",
       "      <th>1961-02-01</th>\n",
       "      <td>462.0</td>\n",
       "    </tr>\n",
       "    <tr>\n",
       "      <th>1961-03-01</th>\n",
       "      <td>462.0</td>\n",
       "    </tr>\n",
       "    <tr>\n",
       "      <th>1961-04-01</th>\n",
       "      <td>466.0</td>\n",
       "    </tr>\n",
       "    <tr>\n",
       "      <th>1961-05-01</th>\n",
       "      <td>471.0</td>\n",
       "    </tr>\n",
       "  </tbody>\n",
       "</table>\n",
       "</div>"
      ],
      "text/plain": [
       "            Predicted\n",
       "Month                \n",
       "1961-01-01      460.0\n",
       "1961-02-01      462.0\n",
       "1961-03-01      462.0\n",
       "1961-04-01      466.0\n",
       "1961-05-01      471.0"
      ]
     },
     "execution_count": 47,
     "metadata": {},
     "output_type": "execute_result"
    }
   ],
   "source": [
    "pred_airpas = forecast_values_df.set_index(['Month'])\n",
    "pred_airpas.head()"
   ]
  },
  {
   "cell_type": "code",
   "execution_count": 48,
   "id": "a5822181",
   "metadata": {},
   "outputs": [
    {
     "data": {
      "text/plain": [
       "<AxesSubplot:xlabel='Month'>"
      ]
     },
     "execution_count": 48,
     "metadata": {},
     "output_type": "execute_result"
    },
    {
     "data": {
      "image/png": "[encoded data removed]",
      "text/plain": [
       "<Figure size 432x288 with 1 Axes>"
      ]
     },
     "metadata": {
      "needs_background": "light"
     },
     "output_type": "display_data"
    }
   ],
   "source": [
    "ind_airpas['Passengers'].plot(legend = True , label = \"Original\" , color =\"green\")\n",
    "pred_airpas['Predicted'].plot(legend = True , label = \"Predicted\" , color =\"red\")\n",
    "# plot using pandas"
   ]
  },
  {
   "cell_type": "code",
   "execution_count": 49,
   "id": "a360de58",
   "metadata": {},
   "outputs": [],
   "source": [
    "# Now you can see precition is so weak (red colour)\n",
    "# it can not capture seasonality\n",
    "# it captures trend but not seasonality"
   ]
  },
  {
   "cell_type": "markdown",
   "id": "e4d63e12",
   "metadata": {},
   "source": [
    "# code with train and test"
   ]
  },
  {
   "cell_type": "code",
   "execution_count": 50,
   "id": "aaa70dc0",
   "metadata": {},
   "outputs": [],
   "source": [
    "# No random sampling"
   ]
  },
  {
   "cell_type": "code",
   "execution_count": 51,
   "id": "131ff45f",
   "metadata": {},
   "outputs": [],
   "source": [
    "data = r\"C:\\Users\\Abhinandan\\Desktop\\AirPassengers.csv\"\n",
    "\n",
    "airpas=pd.read_csv(data)\n",
    "\n",
    "\n",
    "airpas.Month  = pd.to_datetime(airpas.Month, infer_datetime_format= True )\n",
    "ind_airpas = airpas.set_index(['Month']) "
   ]
  },
  {
   "cell_type": "markdown",
   "id": "82645941",
   "metadata": {},
   "source": [
    "# Sequential sampling"
   ]
  },
  {
   "cell_type": "code",
   "execution_count": 52,
   "id": "25d537ce",
   "metadata": {},
   "outputs": [],
   "source": [
    "train   = ind_airpas.iloc[0:132]# 1st 11 years in train\n",
    "test =    ind_airpas.iloc[132:144]  #last 1 year in test"
   ]
  },
  {
   "cell_type": "code",
   "execution_count": 53,
   "id": "27379a9d",
   "metadata": {},
   "outputs": [
    {
     "data": {
      "text/plain": [
       "<AxesSubplot:xlabel='Month'>"
      ]
     },
     "execution_count": 53,
     "metadata": {},
     "output_type": "execute_result"
    },
    {
     "data": {
      "image/png": "[encoded data removed]",
      "text/plain": [
       "<Figure size 576x576 with 1 Axes>"
      ]
     },
     "metadata": {
      "needs_background": "light"
     },
     "output_type": "display_data"
    }
   ],
   "source": [
    "plt.figure(figsize =(8 , 8))\n",
    "train['Passengers'].plot(legend = True , label = \"Train\" , color =\"green\")\n",
    "test['Passengers'].plot(legend = True , label = \"Test\" , color =\"red\")\n",
    "\n",
    "\n",
    "# for explatnation only"
   ]
  },
  {
   "cell_type": "code",
   "execution_count": 54,
   "id": "a3063944",
   "metadata": {},
   "outputs": [],
   "source": [
    "train_log   = np.log(train)"
   ]
  },
  {
   "cell_type": "code",
   "execution_count": 55,
   "id": "e8076d1b",
   "metadata": {},
   "outputs": [
    {
     "name": "stderr",
     "output_type": "stream",
     "text": [
      "C:\\Users\\Abhinandan\\anaconda3\\lib\\site-packages\\statsmodels\\tsa\\arima_model.py:472: FutureWarning: \n",
      "statsmodels.tsa.arima_model.ARMA and statsmodels.tsa.arima_model.ARIMA have\n",
      "been deprecated in favor of statsmodels.tsa.arima.model.ARIMA (note the .\n",
      "between arima and model) and\n",
      "statsmodels.tsa.SARIMAX. These will be removed after the 0.12 release.\n",
      "\n",
      "statsmodels.tsa.arima.model.ARIMA makes use of the statespace framework and\n",
      "is both well tested and maintained.\n",
      "\n",
      "To silence this warning and continue using ARMA and ARIMA until they are\n",
      "removed, use:\n",
      "\n",
      "import warnings\n",
      "warnings.filterwarnings('ignore', 'statsmodels.tsa.arima_model.ARMA',\n",
      "                        FutureWarning)\n",
      "warnings.filterwarnings('ignore', 'statsmodels.tsa.arima_model.ARIMA',\n",
      "                        FutureWarning)\n",
      "\n",
      "  warnings.warn(ARIMA_DEPRECATION_WARN, FutureWarning)\n",
      "C:\\Users\\Abhinandan\\anaconda3\\lib\\site-packages\\statsmodels\\tsa\\base\\tsa_model.py:524: ValueWarning: No frequency information was provided, so inferred frequency MS will be used.\n",
      "  warnings.warn('No frequency information was'\n",
      "C:\\Users\\Abhinandan\\anaconda3\\lib\\site-packages\\statsmodels\\tsa\\base\\tsa_model.py:524: ValueWarning: No frequency information was provided, so inferred frequency MS will be used.\n",
      "  warnings.warn('No frequency information was'\n"
     ]
    }
   ],
   "source": [
    "from statsmodels.tsa.arima_model import ARIMA\n",
    "model = ARIMA(train_log , order =(6,1,2))\n"
   ]
  },
  {
   "cell_type": "code",
   "execution_count": 56,
   "id": "fdbe9db5",
   "metadata": {},
   "outputs": [
    {
     "name": "stderr",
     "output_type": "stream",
     "text": [
      "C:\\Users\\Abhinandan\\anaconda3\\lib\\site-packages\\statsmodels\\base\\model.py:547: HessianInversionWarning: Inverting hessian failed, no bse or cov_params available\n",
      "  warnings.warn('Inverting hessian failed, no bse or cov_params '\n",
      "C:\\Users\\Abhinandan\\anaconda3\\lib\\site-packages\\statsmodels\\base\\model.py:566: ConvergenceWarning: Maximum Likelihood optimization failed to converge. Check mle_retvals\n",
      "  warnings.warn(\"Maximum Likelihood optimization failed to \"\n",
      "C:\\Users\\Abhinandan\\anaconda3\\lib\\site-packages\\statsmodels\\tsa\\arima_model.py:472: FutureWarning: \n",
      "statsmodels.tsa.arima_model.ARMA and statsmodels.tsa.arima_model.ARIMA have\n",
      "been deprecated in favor of statsmodels.tsa.arima.model.ARIMA (note the .\n",
      "between arima and model) and\n",
      "statsmodels.tsa.SARIMAX. These will be removed after the 0.12 release.\n",
      "\n",
      "statsmodels.tsa.arima.model.ARIMA makes use of the statespace framework and\n",
      "is both well tested and maintained.\n",
      "\n",
      "To silence this warning and continue using ARMA and ARIMA until they are\n",
      "removed, use:\n",
      "\n",
      "import warnings\n",
      "warnings.filterwarnings('ignore', 'statsmodels.tsa.arima_model.ARMA',\n",
      "                        FutureWarning)\n",
      "warnings.filterwarnings('ignore', 'statsmodels.tsa.arima_model.ARIMA',\n",
      "                        FutureWarning)\n",
      "\n",
      "  warnings.warn(ARIMA_DEPRECATION_WARN, FutureWarning)\n"
     ]
    },
    {
     "data": {
      "text/plain": [
       "(array([6.05921727, 5.99476232, 5.97147241, 6.00019014, 6.160917  ,\n",
       "        6.35382739, 6.41206782, 6.35408072, 6.24022065, 6.16007145,\n",
       "        6.14960229, 6.13851254]),\n",
       " array([33259.65199379, 41392.41035524, 42150.92017805, 42417.85688185,\n",
       "        42472.20095365, 46242.63111073, 53265.65194021, 55704.04727911,\n",
       "        56126.24784888, 56136.84687914, 56563.77928933, 59385.04168496]),\n",
       " array([[ -65181.66082888,   65193.77926343],\n",
       "        [ -81121.63876725,   81133.62829189],\n",
       "        [ -82608.31399178,   82620.2569366 ],\n",
       "        [ -83131.47159966,   83143.47197995],\n",
       "        [ -83237.8232963 ,   83250.14513029],\n",
       "        [ -90627.5377    ,   90640.24535478],\n",
       "        [-104392.34734803,  104405.17148366],\n",
       "        [-109171.57237945,  109184.28054088],\n",
       "        [-109999.18415053,  110011.66459182],\n",
       "        [-110020.0380173 ,  110032.3581602 ],\n",
       "        [-110856.82063428,  110869.11983886],\n",
       "        [-116386.40441038,  116398.68143546]]))"
      ]
     },
     "execution_count": 56,
     "metadata": {},
     "output_type": "execute_result"
    }
   ],
   "source": [
    "result          = model.fit()\n",
    "forecast_values = result.forecast(steps = 12)\n",
    "forecast_values\n",
    "\n",
    "# this time forecasting for year 1960"
   ]
  },
  {
   "cell_type": "code",
   "execution_count": 57,
   "id": "c6b08d5b",
   "metadata": {},
   "outputs": [],
   "source": [
    "forecast_values_df = pd.DataFrame(forecast_values[0])\n",
    "forecast_values_df = np.exp(forecast_values_df)\n"
   ]
  },
  {
   "cell_type": "code",
   "execution_count": 58,
   "id": "ee436766",
   "metadata": {},
   "outputs": [
    {
     "data": {
      "text/html": [
       "<div>\n",
       "<style scoped>\n",
       "    .dataframe tbody tr th:only-of-type {\n",
       "        vertical-align: middle;\n",
       "    }\n",
       "\n",
       "    .dataframe tbody tr th {\n",
       "        vertical-align: top;\n",
       "    }\n",
       "\n",
       "    .dataframe thead th {\n",
       "        text-align: right;\n",
       "    }\n",
       "</style>\n",
       "<table border=\"1\" class=\"dataframe\">\n",
       "  <thead>\n",
       "    <tr style=\"text-align: right;\">\n",
       "      <th></th>\n",
       "      <th>0</th>\n",
       "    </tr>\n",
       "  </thead>\n",
       "  <tbody>\n",
       "    <tr>\n",
       "      <th>0</th>\n",
       "      <td>428.040268</td>\n",
       "    </tr>\n",
       "    <tr>\n",
       "      <th>1</th>\n",
       "      <td>401.321287</td>\n",
       "    </tr>\n",
       "    <tr>\n",
       "      <th>2</th>\n",
       "      <td>392.082551</td>\n",
       "    </tr>\n",
       "    <tr>\n",
       "      <th>3</th>\n",
       "      <td>403.505511</td>\n",
       "    </tr>\n",
       "    <tr>\n",
       "      <th>4</th>\n",
       "      <td>473.862406</td>\n",
       "    </tr>\n",
       "    <tr>\n",
       "      <th>5</th>\n",
       "      <td>574.688061</td>\n",
       "    </tr>\n",
       "    <tr>\n",
       "      <th>6</th>\n",
       "      <td>609.151993</td>\n",
       "    </tr>\n",
       "    <tr>\n",
       "      <th>7</th>\n",
       "      <td>574.833663</td>\n",
       "    </tr>\n",
       "    <tr>\n",
       "      <th>8</th>\n",
       "      <td>512.971683</td>\n",
       "    </tr>\n",
       "    <tr>\n",
       "      <th>9</th>\n",
       "      <td>473.461902</td>\n",
       "    </tr>\n",
       "    <tr>\n",
       "      <th>10</th>\n",
       "      <td>468.531010</td>\n",
       "    </tr>\n",
       "    <tr>\n",
       "      <th>11</th>\n",
       "      <td>463.363821</td>\n",
       "    </tr>\n",
       "  </tbody>\n",
       "</table>\n",
       "</div>"
      ],
      "text/plain": [
       "             0\n",
       "0   428.040268\n",
       "1   401.321287\n",
       "2   392.082551\n",
       "3   403.505511\n",
       "4   473.862406\n",
       "5   574.688061\n",
       "6   609.151993\n",
       "7   574.833663\n",
       "8   512.971683\n",
       "9   473.461902\n",
       "10  468.531010\n",
       "11  463.363821"
      ]
     },
     "execution_count": 58,
     "metadata": {},
     "output_type": "execute_result"
    }
   ],
   "source": [
    "forecast_values_df"
   ]
  },
  {
   "cell_type": "code",
   "execution_count": 59,
   "id": "622b922f",
   "metadata": {},
   "outputs": [],
   "source": [
    "date_for_pred = ['1960-01-01'  , '1960-02-01' ,\n",
    "                 '1960-03-01', '1960-04-01','1960-05-01', \n",
    "                 '1960-06-01', '1960-07-01','1960-08-01',\n",
    "                 '1960-09-01', '1960-10-01','1960-11-01',\n",
    "                 '1960-12-01']\n",
    "# dates created for 1960"
   ]
  },
  {
   "cell_type": "code",
   "execution_count": 60,
   "id": "368da0d9",
   "metadata": {},
   "outputs": [],
   "source": [
    "forecast_values_df  = pd.concat([  pd.Series(date_for_pred )  , forecast_values_df] , axis = 1)"
   ]
  },
  {
   "cell_type": "code",
   "execution_count": 61,
   "id": "cfc5f0f4",
   "metadata": {},
   "outputs": [
    {
     "data": {
      "text/html": [
       "<div>\n",
       "<style scoped>\n",
       "    .dataframe tbody tr th:only-of-type {\n",
       "        vertical-align: middle;\n",
       "    }\n",
       "\n",
       "    .dataframe tbody tr th {\n",
       "        vertical-align: top;\n",
       "    }\n",
       "\n",
       "    .dataframe thead th {\n",
       "        text-align: right;\n",
       "    }\n",
       "</style>\n",
       "<table border=\"1\" class=\"dataframe\">\n",
       "  <thead>\n",
       "    <tr style=\"text-align: right;\">\n",
       "      <th></th>\n",
       "      <th>Month</th>\n",
       "      <th>Passengers</th>\n",
       "    </tr>\n",
       "  </thead>\n",
       "  <tbody>\n",
       "    <tr>\n",
       "      <th>0</th>\n",
       "      <td>1960-01-01</td>\n",
       "      <td>428.040268</td>\n",
       "    </tr>\n",
       "    <tr>\n",
       "      <th>1</th>\n",
       "      <td>1960-02-01</td>\n",
       "      <td>401.321287</td>\n",
       "    </tr>\n",
       "    <tr>\n",
       "      <th>2</th>\n",
       "      <td>1960-03-01</td>\n",
       "      <td>392.082551</td>\n",
       "    </tr>\n",
       "    <tr>\n",
       "      <th>3</th>\n",
       "      <td>1960-04-01</td>\n",
       "      <td>403.505511</td>\n",
       "    </tr>\n",
       "    <tr>\n",
       "      <th>4</th>\n",
       "      <td>1960-05-01</td>\n",
       "      <td>473.862406</td>\n",
       "    </tr>\n",
       "  </tbody>\n",
       "</table>\n",
       "</div>"
      ],
      "text/plain": [
       "        Month  Passengers\n",
       "0  1960-01-01  428.040268\n",
       "1  1960-02-01  401.321287\n",
       "2  1960-03-01  392.082551\n",
       "3  1960-04-01  403.505511\n",
       "4  1960-05-01  473.862406"
      ]
     },
     "execution_count": 61,
     "metadata": {},
     "output_type": "execute_result"
    }
   ],
   "source": [
    "l1 = [ 'Month'  , 'Passengers']\n",
    "\n",
    "forecast_values_df.columns = l1\n",
    "\n",
    "forecast_values_df.head()"
   ]
  },
  {
   "cell_type": "code",
   "execution_count": 62,
   "id": "c13721d0",
   "metadata": {},
   "outputs": [],
   "source": [
    "forecast_values_df.Month  = pd.to_datetime(forecast_values_df.Month, infer_datetime_format= True ) \n",
    "forecast_values_df = forecast_values_df.set_index(['Month'])\n"
   ]
  },
  {
   "cell_type": "code",
   "execution_count": 63,
   "id": "8809d2e5",
   "metadata": {},
   "outputs": [
    {
     "data": {
      "text/plain": [
       "<AxesSubplot:xlabel='Month'>"
      ]
     },
     "execution_count": 63,
     "metadata": {},
     "output_type": "execute_result"
    },
    {
     "data": {
      "image/png": "[encoded data removed]",
      "text/plain": [
       "<Figure size 432x288 with 1 Axes>"
      ]
     },
     "metadata": {
      "needs_background": "light"
     },
     "output_type": "display_data"
    }
   ],
   "source": [
    "test['Passengers'].plot(legend = True , label = \"Test\" , color =\"red\")\n",
    "train['Passengers'].plot(legend = True , label = \"Train\" , color =\"green\")\n",
    "forecast_values_df['Passengers'].plot(legend = True , label = \"Predicted\" , color =\"blue\")"
   ]
  },
  {
   "cell_type": "markdown",
   "id": "42eafc6b",
   "metadata": {},
   "source": [
    "# lets evaluate the model using numbers"
   ]
  },
  {
   "cell_type": "code",
   "execution_count": 64,
   "id": "461ab9b0",
   "metadata": {},
   "outputs": [
    {
     "data": {
      "text/plain": [
       "1192.0358185335092"
      ]
     },
     "execution_count": 64,
     "metadata": {},
     "output_type": "execute_result"
    }
   ],
   "source": [
    "np.mean(np.square(forecast_values_df.Passengers  - test.Passengers))\n",
    "\n",
    "\n",
    "#MSE for p= 1 , d = 0 , q = 1"
   ]
  },
  {
   "cell_type": "code",
   "execution_count": 65,
   "id": "2a29cbd5",
   "metadata": {},
   "outputs": [
    {
     "data": {
      "text/plain": [
       "1192.0358185335092"
      ]
     },
     "execution_count": 65,
     "metadata": {},
     "output_type": "execute_result"
    }
   ],
   "source": [
    "np.mean(np.square(forecast_values_df.Passengers  - test.Passengers))\n",
    "\n",
    "#MSE for p= 1 , d= 0, q = 2"
   ]
  },
  {
   "cell_type": "code",
   "execution_count": 66,
   "id": "30513ff1",
   "metadata": {},
   "outputs": [],
   "source": [
    "# try different combinations of p and q and check which one gives the least MSE\n"
   ]
  },
  {
   "cell_type": "markdown",
   "id": "465af7a8",
   "metadata": {},
   "source": [
    "# Date 18-11-2021"
   ]
  },
  {
   "cell_type": "code",
   "execution_count": 67,
   "id": "723fce90",
   "metadata": {},
   "outputs": [
    {
     "name": "stdout",
     "output_type": "stream",
     "text": [
      "---------------------------------------\n",
      "Value of P change from -------> 1 New value of P ---------> 1\n",
      "-----------------------------------------\n",
      "Value of p is  1 Value of q is  1 Value of mse is 6374.913445690942\n",
      "Value of p is  1 Value of q is  2 Value of mse is 5851.3780969489635\n",
      "Value of p is  1 Value of q is  3 Value of mse is 5860.766205778408\n",
      "Value of p is  1 Value of q is  4 Value of mse is 6268.1660553019055\n",
      "---------------------------------------\n",
      "Value of P change from -------> 1 New value of P ---------> 2\n",
      "-----------------------------------------\n",
      "Value of p is  2 Value of q is  1 Value of mse is 6702.793333551538\n",
      "Value of p is  2 Value of q is  2 Value of mse is 3749.2815452152577\n",
      "Value of p is  2 Value of q is  3 Value of mse is 3828.0668175824117\n",
      "Value of p is  2 Value of q is  4 Value of mse is 8708.078486011147\n",
      "---------------------------------------\n",
      "Value of P change from -------> 2 New value of P ---------> 3\n",
      "-----------------------------------------\n",
      "Value of p is  3 Value of q is  1 Value of mse is 7298.953806084069\n",
      "Value of p is  3 Value of q is  2 Value of mse is 6564.826324969654\n",
      "Value of p is  3 Value of q is  3 Value of mse is 6633.927037968969\n",
      "Value of p is  3 Value of q is  4 Value of mse is 9198.398696702701\n",
      "---------------------------------------\n",
      "Value of P change from -------> 3 New value of P ---------> 4\n",
      "-----------------------------------------\n",
      "Value of p is  4 Value of q is  1 Value of mse is 7282.183165860333\n",
      "Value of p is  4 Value of q is  2 Value of mse is 7804.642790239399\n",
      "Value of p is  4 Value of q is  3 Value of mse is 7536.177996606203\n",
      "Value of p is  4 Value of q is  4 Value of mse is 7729.954093340682\n",
      "---------------------------------------\n",
      "Value of P change from -------> 4 New value of P ---------> 5\n",
      "-----------------------------------------\n",
      "Value of p is  5 Value of q is  1 Value of mse is 8053.521629952695\n",
      "Value of p is  5 Value of q is  2 Value of mse is 6228.748609002184\n",
      "Value of p is  5 Value of q is  3 Value of mse is 7776.642690998508\n",
      "Value of p is  5 Value of q is  4 Value of mse is 7862.927350542056\n",
      "---------------------------------------\n",
      "Value of P change from -------> 5 New value of P ---------> 6\n",
      "-----------------------------------------\n",
      "Value of p is  6 Value of q is  1 Value of mse is 4225.573059581783\n",
      "Value of p is  6 Value of q is  2 Value of mse is 1192.0358185335094\n",
      "Value of p is  6 Value of q is  3 Value of mse is 7303.930868455153\n",
      "Value of p is  6 Value of q is  4 Value of mse is 1631.94768461819\n"
     ]
    }
   ],
   "source": [
    "import warnings\n",
    "warnings.filterwarnings('ignore') ##these 2 linews for ignoring warnings\n",
    "from sklearn.metrics import mean_squared_error\n",
    "mse_list =[]\n",
    "p_list = []\n",
    "q_list = []\n",
    "p_old = 1\n",
    "for p in range(1,7):\n",
    "    print(\"---------------------------------------\")\n",
    "    print(\"Value of P change from ------->\",p_old , \"New value of P --------->\" , p)\n",
    "    print(\"-----------------------------------------\")\n",
    "    for q in range(1,5):\n",
    "        p_list.append(p)\n",
    "        q_list.append(q)\n",
    "        model = ARIMA(train_log, order =(p,1,q))\n",
    "        result = model.fit()\n",
    "        forecast_values = result.forecast(steps=12)\n",
    "        forecast_values_df =pd.DataFrame(forecast_values[0])\n",
    "        forecast_values_df =np.exp(forecast_values_df)\n",
    "        mse = mean_squared_error(forecast_values_df, test)\n",
    "        mse_list.append(mse)\n",
    "        print(\"Value of p is \",p, \"Value of q is \", q , \"Value of mse is\", mse);\n",
    "        p_old =p"
   ]
  },
  {
   "cell_type": "code",
   "execution_count": null,
   "id": "af6a54d2",
   "metadata": {},
   "outputs": [],
   "source": []
  },
  {
   "cell_type": "markdown",
   "id": "37bfea03",
   "metadata": {},
   "source": [
    "# Working on SARIMA"
   ]
  },
  {
   "cell_type": "code",
   "execution_count": 68,
   "id": "f671adc5",
   "metadata": {},
   "outputs": [
    {
     "data": {
      "image/png": "[encoded data removed]",
      "text/plain": [
       "<Figure size 432x288 with 4 Axes>"
      ]
     },
     "metadata": {
      "needs_background": "light"
     },
     "output_type": "display_data"
    }
   ],
   "source": [
    "from statsmodels.tsa.seasonal import seasonal_decompose\n",
    "decompose_res = seasonal_decompose(ind_airpas)\n",
    "decompose_res.plot();"
   ]
  },
  {
   "cell_type": "code",
   "execution_count": 69,
   "id": "99f02752",
   "metadata": {},
   "outputs": [
    {
     "name": "stdout",
     "output_type": "stream",
     "text": [
      "Requirement already satisfied: pmdarima in c:\\users\\abhinandan\\anaconda3\\lib\\site-packages (1.8.4)\n",
      "Requirement already satisfied: pandas>=0.19 in c:\\users\\abhinandan\\anaconda3\\lib\\site-packages (from pmdarima) (1.2.4)\n",
      "Requirement already satisfied: numpy>=1.19.3 in c:\\users\\abhinandan\\anaconda3\\lib\\site-packages (from pmdarima) (1.20.1)\n",
      "Requirement already satisfied: Cython!=0.29.18,>=0.29 in c:\\users\\abhinandan\\anaconda3\\lib\\site-packages (from pmdarima) (0.29.23)\n",
      "Requirement already satisfied: setuptools!=50.0.0,>=38.6.0 in c:\\users\\abhinandan\\anaconda3\\lib\\site-packages (from pmdarima) (52.0.0.post20210125)\n",
      "Requirement already satisfied: statsmodels!=0.12.0,>=0.11 in c:\\users\\abhinandan\\anaconda3\\lib\\site-packages (from pmdarima) (0.12.2)\n",
      "Requirement already satisfied: scikit-learn>=0.22 in c:\\users\\abhinandan\\anaconda3\\lib\\site-packages (from pmdarima) (0.24.1)\n",
      "Requirement already satisfied: joblib>=0.11 in c:\\users\\abhinandan\\anaconda3\\lib\\site-packages (from pmdarima) (1.0.1)\n",
      "Requirement already satisfied: urllib3 in c:\\users\\abhinandan\\anaconda3\\lib\\site-packages (from pmdarima) (1.26.4)\n",
      "Requirement already satisfied: scipy>=1.3.2 in c:\\users\\abhinandan\\anaconda3\\lib\\site-packages (from pmdarima) (1.6.2)\n",
      "Requirement already satisfied: python-dateutil>=2.7.3 in c:\\users\\abhinandan\\anaconda3\\lib\\site-packages (from pandas>=0.19->pmdarima) (2.8.1)\n",
      "Requirement already satisfied: pytz>=2017.3 in c:\\users\\abhinandan\\anaconda3\\lib\\site-packages (from pandas>=0.19->pmdarima) (2021.1)\n",
      "Requirement already satisfied: six>=1.5 in c:\\users\\abhinandan\\anaconda3\\lib\\site-packages (from python-dateutil>=2.7.3->pandas>=0.19->pmdarima) (1.15.0)\n",
      "Requirement already satisfied: threadpoolctl>=2.0.0 in c:\\users\\abhinandan\\anaconda3\\lib\\site-packages (from scikit-learn>=0.22->pmdarima) (2.1.0)\n",
      "Requirement already satisfied: patsy>=0.5 in c:\\users\\abhinandan\\anaconda3\\lib\\site-packages (from statsmodels!=0.12.0,>=0.11->pmdarima) (0.5.1)\n",
      "Note: you may need to restart the kernel to use updated packages.\n"
     ]
    }
   ],
   "source": [
    "#pip install pmdarima"
   ]
  },
  {
   "cell_type": "code",
   "execution_count": 70,
   "id": "a99d0985",
   "metadata": {},
   "outputs": [],
   "source": [
    "from statsmodels.tsa.statespace.sarimax import SARIMAX\n",
    "import pmdarima\n",
    "from pmdarima import auto_arima"
   ]
  },
  {
   "cell_type": "code",
   "execution_count": 71,
   "id": "be1adb28",
   "metadata": {},
   "outputs": [
    {
     "data": {
      "text/plain": [
       "ARIMA(order=(2, 0, 0), scoring_args={}, seasonal_order=(0, 1, 1, 12),\n",
       "      suppress_warnings=True)"
      ]
     },
     "execution_count": 71,
     "metadata": {},
     "output_type": "execute_result"
    }
   ],
   "source": [
    "auto_arima(ind_airpas_log , seasonal=True , m= 12)\n"
   ]
  },
  {
   "cell_type": "code",
   "execution_count": 72,
   "id": "a387740b",
   "metadata": {},
   "outputs": [],
   "source": [
    "model_sarima = SARIMAX(ind_airpas_log , order=(2,0 ,0), seasonal_order=(0,1,1,12))\n",
    "\n",
    "results =  model_sarima.fit()"
   ]
  },
  {
   "cell_type": "code",
   "execution_count": 73,
   "id": "e1cde832",
   "metadata": {},
   "outputs": [],
   "source": [
    "abc= results.predict()"
   ]
  },
  {
   "cell_type": "code",
   "execution_count": 74,
   "id": "2cee2a50",
   "metadata": {},
   "outputs": [
    {
     "data": {
      "text/plain": [
       "144"
      ]
     },
     "execution_count": 74,
     "metadata": {},
     "output_type": "execute_result"
    }
   ],
   "source": [
    "len(abc)"
   ]
  },
  {
   "cell_type": "code",
   "execution_count": 75,
   "id": "d8262f87",
   "metadata": {},
   "outputs": [],
   "source": [
    "# control preduction bu start and end"
   ]
  },
  {
   "cell_type": "markdown",
   "id": "b4ae62e0",
   "metadata": {},
   "source": [
    "# Prediction for year 1960 and compairing it with actual data of  yesr 1960"
   ]
  },
  {
   "cell_type": "code",
   "execution_count": 76,
   "id": "2ebbed38",
   "metadata": {},
   "outputs": [
    {
     "data": {
      "text/plain": [
       "1960-01-01    6.039150\n",
       "1960-02-01    5.984949\n",
       "1960-03-01    6.128366\n",
       "1960-04-01    6.039700\n",
       "1960-05-01    6.131101\n",
       "1960-06-01    6.305712\n",
       "1960-07-01    6.415847\n",
       "1960-08-01    6.436395\n",
       "1960-09-01    6.238580\n",
       "1960-10-01    6.097121\n",
       "1960-11-01    5.991878\n",
       "1960-12-01    6.083892\n",
       "Freq: MS, Name: predicted_mean, dtype: float64"
      ]
     },
     "execution_count": 76,
     "metadata": {},
     "output_type": "execute_result"
    }
   ],
   "source": [
    "results.predict(start=132, end= 143)   #1960"
   ]
  },
  {
   "cell_type": "code",
   "execution_count": 77,
   "id": "b8ae5ac2",
   "metadata": {},
   "outputs": [
    {
     "data": {
      "text/plain": [
       "1961-01-01    6.103840\n",
       "1961-02-01    6.045845\n",
       "1961-03-01    6.162625\n",
       "1961-04-01    6.188951\n",
       "1961-05-01    6.220984\n",
       "1961-06-01    6.355967\n",
       "1961-07-01    6.493269\n",
       "1961-08-01    6.487662\n",
       "1961-09-01    6.308238\n",
       "1961-10-01    6.191354\n",
       "1961-11-01    6.044633\n",
       "1961-12-01    6.147981\n",
       "Freq: MS, Name: predicted_mean, dtype: float64"
      ]
     },
     "execution_count": 77,
     "metadata": {},
     "output_type": "execute_result"
    }
   ],
   "source": [
    "results.predict(start=144, end= 155)  # prediction for year 1961\n",
    "\n",
    "# for explanation"
   ]
  },
  {
   "cell_type": "code",
   "execution_count": 78,
   "id": "9e8e403f",
   "metadata": {},
   "outputs": [
    {
     "data": {
      "image/png": "[encoded data removed]",
      "text/plain": [
       "<Figure size 576x576 with 1 Axes>"
      ]
     },
     "metadata": {
      "needs_background": "light"
     },
     "output_type": "display_data"
    }
   ],
   "source": [
    "pred = results.predict(start = 132, end = 143)\n",
    "actual_pred = np.exp(pred)\n",
    "actual_pred\n",
    "\n",
    "plt.figure(figsize=(8,8))\n",
    "plt.plot(ind_airpas[132:144], marker = \"*\", color =\"r\", label =\"actual\")\n",
    "plt.plot(actual_pred , marker = \"*\", color =\"b\", label =\"forecasted\")\n",
    "\n",
    "plt.grid()"
   ]
  },
  {
   "cell_type": "code",
   "execution_count": 79,
   "id": "ac5ff664",
   "metadata": {},
   "outputs": [
    {
     "data": {
      "text/plain": [
       "1960-01-01    419.536298\n",
       "1960-02-01    397.402342\n",
       "1960-03-01    458.686062\n",
       "1960-04-01    419.767049\n",
       "1960-05-01    459.942218\n",
       "1960-06-01    547.691521\n",
       "1960-07-01    611.458426\n",
       "1960-08-01    624.152714\n",
       "1960-09-01    512.131020\n",
       "1960-10-01    444.575978\n",
       "1960-11-01    400.165437\n",
       "1960-12-01    438.733529\n",
       "Freq: MS, Name: predicted_mean, dtype: float64"
      ]
     },
     "execution_count": 79,
     "metadata": {},
     "output_type": "execute_result"
    }
   ],
   "source": [
    "actual_pred"
   ]
  },
  {
   "cell_type": "code",
   "execution_count": 80,
   "id": "001a9040",
   "metadata": {},
   "outputs": [
    {
     "data": {
      "text/plain": [
       "375.430290884626"
      ]
     },
     "execution_count": 80,
     "metadata": {},
     "output_type": "execute_result"
    }
   ],
   "source": [
    "# MSE\n",
    "\n",
    "mse = mean_squared_error(actual_pred, ind_airpas[132:144]  )\n",
    "mse"
   ]
  },
  {
   "cell_type": "code",
   "execution_count": 81,
   "id": "28507035",
   "metadata": {},
   "outputs": [
    {
     "data": {
      "text/plain": [
       "0.032364828421176876"
      ]
     },
     "execution_count": 81,
     "metadata": {},
     "output_type": "execute_result"
    }
   ],
   "source": [
    "# percentage error\n",
    "\n",
    "from sklearn.metrics import mean_absolute_percentage_error\n",
    "mean_absolute_percentage_error(actual_pred, ind_airpas[132:144] )"
   ]
  },
  {
   "cell_type": "markdown",
   "id": "6f848cfe",
   "metadata": {},
   "source": [
    "# Future prediction of year 1961"
   ]
  },
  {
   "cell_type": "code",
   "execution_count": 82,
   "id": "222f6430",
   "metadata": {},
   "outputs": [
    {
     "data": {
      "text/plain": [
       "<matplotlib.legend.Legend at 0x2f27ff799d0>"
      ]
     },
     "execution_count": 82,
     "metadata": {},
     "output_type": "execute_result"
    },
    {
     "data": {
      "image/png": "[encoded data removed]",
      "text/plain": [
       "<Figure size 576x576 with 1 Axes>"
      ]
     },
     "metadata": {
      "needs_background": "light"
     },
     "output_type": "display_data"
    }
   ],
   "source": [
    "next12 = results.predict(start= 144, end = 155)    #for next 12 months\n",
    "next12 = np.exp(next12)\n",
    "next12\n",
    "\n",
    "plt.figure(figsize=(8,8))\n",
    "plt.plot(ind_airpas, marker = \"*\", color =\"r\", label =\"actual\")\n",
    "plt.plot(next12 , marker = \"*\", color =\"b\", label =\"forecasted\")\n",
    "plt.grid()\n",
    "plt.legend()"
   ]
  },
  {
   "cell_type": "markdown",
   "id": "1c4deba6",
   "metadata": {},
   "source": [
    "we can see our model is doing very good prediction"
   ]
  },
  {
   "cell_type": "code",
   "execution_count": null,
   "id": "364676ce",
   "metadata": {},
   "outputs": [],
   "source": []
  },
  {
   "cell_type": "code",
   "execution_count": null,
   "id": "bf5a7c9c",
   "metadata": {},
   "outputs": [],
   "source": []
  },
  {
   "cell_type": "code",
   "execution_count": null,
   "id": "a2be5daf",
   "metadata": {},
   "outputs": [],
   "source": []
  }
 ],
 "metadata": {
  "kernelspec": {
   "display_name": "Python 3",
   "language": "python",
   "name": "python3"
  },
  "language_info": {
   "codemirror_mode": {
    "name": "ipython",
    "version": 3
   },
   "file_extension": ".py",
   "mimetype": "text/x-python",
   "name": "python",
   "nbconvert_exporter": "python",
   "pygments_lexer": "ipython3",
   "version": "3.8.8"
  }
 },
 "nbformat": 4,
 "nbformat_minor": 5
}
